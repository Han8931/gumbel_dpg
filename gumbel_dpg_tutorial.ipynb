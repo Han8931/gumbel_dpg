{
 "cells": [
  {
   "cell_type": "markdown",
   "metadata": {},
   "source": [
    "# Deterministic policy gradient for discrete actions\n",
    "\n",
    "__tldr:__ we describe and implement a [[DPG]](http://proceedings.mlr.press/v32/silver14.pdf) for discrete action spaces using gumbel-softmax and articulate on why it matters. It has better variance. It's off-policy. It's cool.\n",
    "\n",
    "__Prerequesites:__ [[basic rl]](http://karpathy.github.io/2016/05/31/rl/),  [[gumbel-softmax]](http://blog.evjang.com/2016/11/tutorial-categorical-variational.html)\n",
    "\n",
    "__Authors:__ spontaneous brain eruption during the seminar [[practical-rl]](https://github.com/yandexdataschool/practical_rl) reading group. In retrospect, this may or may not have originated from [[Pasha Shvechikov]](1xolodec@gmail.com). \n",
    "\n",
    "We're somewhat affiliated with [[Yandex School of Data Analysis]](https://github.com/yandexdataschool), [[Yandex Machine Intelligence Research]](https://yandex.com/company/blog/introducing-yandex-s-machine-intelligence-and-research-division/) and [[Computer Science @ HSE]](https://cs.hse.ru/en/).\n",
    "\n",
    "### TOC:\n",
    "1. [Stochastic policy gradient](#intro_reinforce)\n",
    "2. [Deterministic policy gradient](#intro_dpg)\n",
    "3. [Gumbel-softmax](#intro_gumbel)\n",
    "4. [Gumbel-DPG](#gumbel_dpg)\n",
    "5. [Hack zone](#hacks)\n",
    "6. [Code](#implementation)\n",
    "7. [Analysis](#outro)\n",
    "\n",
    "__Note__: this algorithm was a popular folklore in our reading group, but we failed to Google-up a paper that suggests it. If you know a paper about discrete DPG with Gumbel that came before this post, ping [[me]](jheuristic@yandex-team.ru) asap.\n",
    "\n",
    "Until you do so, by _jus primae noctis_ we hereby proclaim it __DDDPGG__ for Discrete Deep Deterministic Policy Gradient with Gumbel-softmax. This title was intended to make both Asynchronuous Advantage Actor-Critic and Deep Deterministic Policy Gradient feel miserable. Or just call it Gumbel-DPG if you're not feeling masochistic."
   ]
  },
  {
   "cell_type": "markdown",
   "metadata": {},
   "source": [
    "### Stochastic policy gradient  <a id=\"intro_reinforce\" > </a>\n",
    "\n",
    "The usual way to do reinforcement learning with stochastic policy $\\pi(a|s)$ is by following stochastic policy gradient $\\nabla J$.\n",
    "\n",
    "$$\\nabla J = \\underset{s}{E} \\space \\underset{a \\sim \\pi(a|s)}{E} \\space \\nabla \\log \\pi(a|s) \\cdot Q(s,a)$$\n",
    "\n",
    "Here and below,\n",
    "* s = state, a = action, r = reward\n",
    "* Q(s,a,) is the expected cummulative reward $ Q(s,a) = E \\space G_\\pi(s,a) = E \\space r(s,a) + \\gamma \\cdot r(s',a') + \\gamma^2 \\cdot ...$\n",
    "\n",
    "The simplest algorithm to use this, REINFORCE, does the following:\n",
    "\n",
    "1. $<s_0, a_0, r_0, s_1, a_1, r_1, ... , s_n, a_n, r_n>$ = play full game with $\\pi(a|s)$\n",
    "2. Compute cummulative rewards $G_t$ from $r_t$\n",
    "3. Compute $ \\nabla J \\approx {1 \\over n} \\underset{t}{\\sum} \\nabla \\log \\pi(a_t|s_t) \\cdot G_t$ \n",
    "4. Ascend $\\nabla J$ over $\\pi(a|s)$\n",
    "\n",
    "REINFORCE works well for both discrete and continuous action spaces. Technically you can approach any reinforcement learning problem with it. The catch is that it converges slowly due to high variance in $\\nabla J$. There's a number of enhancements: advantage actor-critic, TRPO, self-critical sequence training. Those enhancements reduce the variance and add some perks like learning from partial experience, but they exploit the same core idea."
   ]
  },
  {
   "cell_type": "markdown",
   "metadata": {},
   "source": [
    "### Deterministic policy gradient <a id='intro_dpg'></a>\n",
    "\n",
    "When action space is continuous, $a \\in \\mathbb{R} $, you can use the idea from [[deterministic policy gradient]](http://pemami4911.github.io/blog/2016/08/21/ddpg-rl.html):\n",
    "\n",
    "$$ \\nabla J = \\underset{s,a \\sim \\pi}{E} {{\\partial Q(s,a)} \\over {\\partial a}} \\cdot {{\\partial a} \\over {\\partial \\pi(a|s)}} $$\n",
    "\n",
    "Here, $\\pi(a|s)$ is some continuous distribution for which you can use [[reparameterization trick]](http://blog.shakirm.com/2015/10/machine-learning-trick-of-the-day-4-reparameterisation-tricks/). For example, Normal distribution, where you can compute $ \\nabla N(\\mu,\\sigma) = \\nabla \\mu + \\nabla \\sigma \\cdot N(0,1) \\space $ Pardon my french.\n",
    "\n",
    "In practice, you can approximate $\\pi$ with a ~~neural network~~ parametric model:\n",
    "\n",
    "<img src='https://s21.postimg.org/9tpiq4dzb/actor.png' width=320>\n",
    "\n",
    "For model-free setting, Q(s,a) is also approximated with ~~another neural network~~ a parametric model, so computing $ \\partial Q / \\partial a $ boils down to backpropagation through that network:\n",
    "\n",
    "<img src='https://s11.postimg.org/jbc1l8q8j/critic.png' width=240>\n",
    "\n",
    "We can train Q(s,a) with simple [TD](http://incompleteideas.net/sutton/book/ebook/node60.html) loss. We used loss from Q-learning (see [appendix](#appendix)):\n",
    "\n",
    "$$ L_{critic} = \\underset{s,a,r,s'}{E} \\space (Q(s,a) - [r+\\gamma \\cdot Q(s',a'_{max}(s'))])^2 $$ \n",
    "<center>($a_{max}$ is most likely action)</center>\n",
    "\n",
    "\n",
    "\n",
    "Now we can feed action from actor into critic and propagate gradients backward:\n",
    "\n",
    "<img src='https://s16.postimg.org/5cz4v71zp/dpg.png' width=480>\n",
    "\n",
    "\n",
    "For normal distribution, this backpropagation becomes\n",
    "\n",
    "$$ \\nabla_\\theta J = \\underset{s,a \\sim \\pi}{E}{{\\partial Q(s,a)} \\over {\\partial [\\mu_\\theta(s) + \\sigma_\\theta(s)\\cdot \\xi]}} \\cdot {{\\partial [\\mu_\\theta(s) + \\sigma_\\theta(s)\\cdot \\xi]} \\over {\\partial \\theta}} $$\n",
    "\n",
    "__Intuitively__, the difference between REINFORCE and DPG is that given just one sample action $a \\sim \\pi(a|s)$, \n",
    "* REINFORCE tells you: \"This action is bad. Don't use it. Use other actions.\"\n",
    "* DPG tells you: \"This action is bad. Move mu and sigma this way to get better.\"\n",
    "\n",
    "The second message is more informative as it gives you instructions on _which direction to follow:_ ${{\\partial Q(s,a)} \\over {\\partial a}}$.\n",
    "\n",
    "__Mathematically__, it's all about tricks: REINFORCE uses [[log-derivative trick]](http://blog.shakirm.com/2015/11/machine-learning-trick-of-the-day-5-log-derivative-trick/), while DPG uses [[reparameterization trick]](http://blog.shakirm.com/2015/10/machine-learning-trick-of-the-day-4-reparameterisation-tricks/). The latter introduces less variance, but it's only available for some $pi$ distributions.\n",
    "\n",
    "One additional boon of DPG is that it can be used __off-policy__. This allows for all cool things from pre-training on human expert data to experience replay for greater sample efficiency.\n"
   ]
  },
  {
   "cell_type": "markdown",
   "metadata": {},
   "source": [
    "### Discrete DPG with Gumbel-softmax <a id=\"intro_gumbel\"></a>\n",
    "\n",
    "The title of this paragraph is a nonsense. Formally speaking, you can't compute ${{\\partial a} \\over {\\partial \\pi(a|s)}}$ if $a$ is a discrete variable. What you can do is replace discrete $a \\sim \\pi(a|s)$ with some continuous distribution which resembles it. One trick that fits the bill is Gumbel-Softmax. \n",
    "\n",
    "\n",
    "For discrete action spaces you usually represent agent's policy as a neural network with one output neuron for each action with softmax nonlinearity. We're now gonna add a special [[Gumbel]](https://en.wikipedia.org/wiki/Gumbel_distribution) noise before softmax. Here's how to get the that noise:\n",
    "\n",
    "$$ g = -log(-log(U)) $$\n",
    "\n",
    "<center>where U is a uniform distribution in [0,1]</center>\n"
   ]
  },
  {
   "cell_type": "code",
   "execution_count": 1,
   "metadata": {
    "collapsed": false
   },
   "outputs": [
    {
     "name": "stderr",
     "output_type": "stream",
     "text": [
      "/anaconda2/lib/python2.7/site-packages/matplotlib/font_manager.py:1297: UserWarning: findfont: Font family [u'sans-serif'] not found. Falling back to DejaVu Sans\n",
      "  (prop.get_family(), self.defaultFamily[fontext]))\n"
     ]
    },
    {
     "data": {
      "image/png": "[encoded data removed]",
      "text/plain": [
       "<matplotlib.figure.Figure at 0x7ff614da4550>"
      ]
     },
     "metadata": {},
     "output_type": "display_data"
    }
   ],
   "source": [
    "import numpy as np\n",
    "import matplotlib.pyplot as plt\n",
    "import seaborn as sns\n",
    "%matplotlib inline\n",
    "\n",
    "e = 1e-50 #epsilon for stability\n",
    "\n",
    "gumbel = lambda size=None: -np.log(-np.log(np.random.uniform(0,1,size)+e)+e)\n",
    "\n",
    "plt.hist(gumbel(10000),bins=100);"
   ]
  },
  {
   "cell_type": "markdown",
   "metadata": {},
   "source": [
    "As you can see, this distribution has quite a fat tail. If you add it before softmax, it will likely make one class dominant and put others near zero.\n",
    "\n",
    "We're now going to build a vector of softmax \"probabilities\" with gumbel noise added independently to each logit.\n",
    "\n",
    "$$\\hat a = [\\frac{\\text{exp}((\\log(\\pi(a_i|s))+g_i)/\\tau)}{\\sum_{j=1}^k \\text{exp}((\\log(\\pi(a_j|s))+g_j)/\\tau)} \\qquad \\text{for } i=1, ..., k ]$$\n",
    "\n",
    "Let's denote that vector as\n",
    "\n",
    "$$ \\hat a \\sim gumbel(\\pi(a|s);\\tau) $$\n",
    "\n",
    "Note that we divide by \"temperature\" $\\tau$: this is gonna be important next paragraph."
   ]
  },
  {
   "cell_type": "code",
   "execution_count": 2,
   "metadata": {
    "collapsed": true
   },
   "outputs": [],
   "source": [
    "softmax = lambda logits: np.exp(logits) / np.exp(logits).sum(axis=-1)\n",
    "\n",
    "gumbel_softmax = lambda logits, tau=1.: softmax((logits + gumbel(logits.shape))/tau)"
   ]
  },
  {
   "cell_type": "markdown",
   "metadata": {},
   "source": [
    "This distribution has a few nice properties that we're gonna use:\n",
    "* It's differentiable: $ {{\\partial \\hat a} / {\\partial \\pi}}$\n",
    "* Taking $\\underset{a_i}{argmax} \\space gumbel(\\pi(a_i|s))$ is equivalent to sampling from $a \\sim \\pi(a|s)$\n",
    "* _For small temperatures_ ($ \\tau \\rightarrow 0 $), $\\hat a$ gets closer to one-hot vector of $a \\sim \\pi(a|s)$\n",
    "\n",
    "Let's illustrate the last property:"
   ]
  },
  {
   "cell_type": "code",
   "execution_count": 3,
   "metadata": {
    "collapsed": false
   },
   "outputs": [
    {
     "data": {
      "image/png": "[encoded data removed]",
      "text/plain": [
       "<matplotlib.figure.Figure at 0x7ff66d5bf890>"
      ]
     },
     "metadata": {},
     "output_type": "display_data"
    }
   ],
   "source": [
    "logits = np.arange(5)    #unnormalized log-probabilities. Go play with it :)\n",
    "taus = [1.,0.5,0.1]     #which tau to plot\n",
    "\n",
    "ids = np.arange(len(logits))\n",
    "probs = softmax(logits)\n",
    "\n",
    "plt.figure(figsize=[12,3])\n",
    "plt.subplot(1,len(taus)+1,1)\n",
    "plt.bar(ids,probs,alpha=1)\n",
    "plt.title('true probs')\n",
    "plt.ylim(0,1.25)\n",
    "\n",
    "\n",
    "for i,tau in enumerate(taus):\n",
    "    np.random.seed(111)\n",
    "    plt.subplot(1,len(taus)+1,i+2)\n",
    "    plt.bar(ids,gumbel_softmax(logits,tau),alpha=0.5,label='sample1')\n",
    "    plt.bar(ids,gumbel_softmax(logits,tau),alpha=0.5,label='sample2')\n",
    "    plt.legend(loc='upper left')\n",
    "    plt.title('gumbel sample t=%.1f'%tau)\n",
    "    plt.ylim(0,1.25)\n",
    "\n"
   ]
  },
  {
   "cell_type": "markdown",
   "metadata": {},
   "source": [
    "Gumbel-softmax trick has already gained a few applications. There's a neat blog post about VAEs with gumbel-softmax [[here]](http://blog.evjang.com/2016/11/tutorial-categorical-variational.html). There's also some adversarial nets [[here]](https://arxiv.org/abs/1611.04051). The common trick is to start with, say, $\\tau_0=1$, and then steadily decrease $\\tau$ as you train your algorithm.\n",
    "\n",
    "In general, you use gumbel-softmax if you want some continuous methods to work on discrete variables. Aham! This is exactly where we were with deterministic policy gradient!"
   ]
  },
  {
   "cell_type": "markdown",
   "metadata": {},
   "source": [
    "### Gumbel-DPG <a id=\"gumbel_dpg\"></a>\n",
    "\n",
    "So, what changes in our DPG scheme? We substitute normal distribution with a gumbel-softmax distribution and such actor:\n",
    "\n",
    "<img src=\"https://s24.postimg.org/mgpxidm9h/gumbel_actor.png\" width=440>\n",
    "\n",
    "The DPG scheme didn't change a bit:\n",
    "\n",
    "<img src=\"https://s2.postimg.org/4yfq3wpu1/gumbel_dpg.png\" width=480>\n",
    "\n",
    "Note that the entire scheme here is fully differentiable:\n",
    "\n",
    "$$ {{\\partial Q(s,\\hat a)} \\over {\\partial \\theta}} = {{\\partial Q(s,\\hat a))} \\over {\\partial \\hat a}} \\cdot {{\\partial \\hat a} \\over {\\partial \\pi_\\theta(a|s)}} \\cdot {{\\partial \\pi_\\theta(a|s)} \\over {\\partial \\theta}} $$\n",
    "\n",
    "\n",
    "So here's our plan:\n",
    "\n",
    "1. Initialize $\\pi_\\theta(a|s)$ and $Q_\\phi(s,\\hat a)$ at random\n",
    "2. Initialize $\\tau = 1$\n",
    "3. Forever:\n",
    "4. $\\quad s = current\\_state()$\n",
    "5. $\\quad a = gumbel(\\pi_\\theta(a|s); \\tau)$\n",
    "6. $\\quad$train Actor by _ascending_ $ {{\\partial Q_\\phi(s,\\hat a)} / {\\partial \\theta}} $ over $\\theta$\n",
    "7. $\\quad s',r = get\\_action\\_result(s,a)$\n",
    "8. $\\quad$train critic by descending $\\nabla (Q_\\phi(s,a) - [r+\\gamma \\cdot \\space Q_\\phi(s', \\underset{a'}{argmax\\space}\\pi_\\theta(a'|s'); \\tau))])^2 $ over $\\phi$\n",
    "9. $\\quad$decrease $\\tau$\n",
    "\n",
    "__Note:__ lines 6 and 8 only take a single step (or a few steps) following the gradient to avoid overfitting to a single interaction.\n",
    "\n",
    "__Note 2:__ to clarify line 8: we compute $a'_{max}(s') = \\underset{a'}{argmax\\space}\\pi_\\theta(a'|s')$ and then plug $Q_\\phi(s',a'_{max}(s')$ into critic loss."
   ]
  },
  {
   "cell_type": "markdown",
   "metadata": {},
   "source": [
    "### Hack zone <a id=\"hacks\"></a>\n",
    "\n",
    "Since DPG is an off-policy algorithm, you can use this property by training on experience replay like in [[DQN]](https://www.nervanasys.com/demystifying-deep-reinforcement-learning/)_[ctrl+f experience replay there]_. There's also [[prioritized experience replay]](https://arxiv.org/abs/1511.05952) available. \n",
    "\n",
    "You can use target networks to stabilize critic ([[regular]](https://medium.com/@awjuliani/simple-reinforcement-learning-with-tensorflow-part-4-deep-q-networks-and-beyond-8438a3e2b8df)_[see addition 3]_,[[soft]](https://arxiv.org/pdf/1509.02971.pdf)_[ctrl+f \"slowly track\"]_). \n",
    "\n",
    "One other common hach for all policy gradient algorithms is regularizing actor with entropy (more=better). This trick prevents premature convergence for the cost of introducing yet another parameter."
   ]
  },
  {
   "cell_type": "markdown",
   "metadata": {},
   "source": [
    "### Finally, let's code it! <a id=\"implementation\"> </a>\n",
    "\n",
    "The usual story: use gym for environment, code in theano with easy conversion to tensorflow/pytorch."
   ]
  },
  {
   "cell_type": "code",
   "execution_count": 4,
   "metadata": {
    "collapsed": false
   },
   "outputs": [
    {
     "name": "stdout",
     "output_type": "stream",
     "text": [
      "Starting virtual X frame buffer: Xvfb.\n",
      "env: DISPLAY=:1\n"
     ]
    }
   ],
   "source": [
    "#recording video on a server\n",
    "import os\n",
    "if type(os.environ.get(\"DISPLAY\")) is not str or len(os.environ.get(\"DISPLAY\"))==0:\n",
    "    !bash ./xvfb start\n",
    "    %env DISPLAY=:1"
   ]
  },
  {
   "cell_type": "code",
   "execution_count": 5,
   "metadata": {
    "collapsed": false
   },
   "outputs": [
    {
     "name": "stderr",
     "output_type": "stream",
     "text": [
      "[2017-06-16 15:46:16,652] Making new env: CartPole-v0\n"
     ]
    },
    {
     "data": {
      "text/plain": [
       "<matplotlib.image.AxesImage at 0x7ff604fba510>"
      ]
     },
     "execution_count": 5,
     "metadata": {},
     "output_type": "execute_result"
    },
    {
     "data": {
      "image/png": "[encoded data removed]",
      "text/plain": [
       "<matplotlib.figure.Figure at 0x7ff64a838f90>"
      ]
     },
     "metadata": {},
     "output_type": "display_data"
    }
   ],
   "source": [
    "#here's our env\n",
    "import gym\n",
    "make_env = lambda: gym.make(\"CartPole-v0\")\n",
    "\n",
    "env = make_env()\n",
    "env.reset()\n",
    "\n",
    "n_actions = env.action_space.n\n",
    "state_dim = env.observation_space.shape\n",
    "\n",
    "plt.imshow(env.render(\"rgb_array\"))"
   ]
  },
  {
   "cell_type": "markdown",
   "metadata": {},
   "source": [
    "#### Building actor and critic\n",
    "\n",
    "We define two lasagne networks to be used as actor and critic accordingly."
   ]
  },
  {
   "cell_type": "code",
   "execution_count": 6,
   "metadata": {
    "collapsed": false
   },
   "outputs": [
    {
     "name": "stdout",
     "output_type": "stream",
     "text": [
      "env: THEANO_FLAGS=device=gpu2,floatX=float32\n"
     ]
    },
    {
     "name": "stderr",
     "output_type": "stream",
     "text": [
      "[2017-06-16 15:46:18,142] The cuda backend is deprecated and will be removed in the next release (v0.10).  Please switch to the gpuarray backend. You can get more information about how to switch at this URL:\n",
      " https://github.com/Theano/Theano/wiki/Converting-to-the-new-gpu-back-end%28gpuarray%29\n",
      "\n",
      "Using gpu device 2: GeForce GTX 1080 (CNMeM is enabled with initial size: 22.0% of memory, cuDNN 5110)\n"
     ]
    }
   ],
   "source": [
    "%env THEANO_FLAGS=floatX=float32\n",
    "import theano\n",
    "import theano.tensor as T\n",
    "import lasagne\n",
    "from lasagne.layers import *\n",
    "from gumbel import GumbelSoftmaxLayer\n",
    "tau = theano.shared(np.float32(0.01),name=\"tau\",allow_downcast=True)"
   ]
  },
  {
   "cell_type": "markdown",
   "metadata": {},
   "source": [
    "__Actor__"
   ]
  },
  {
   "cell_type": "code",
   "execution_count": 7,
   "metadata": {
    "collapsed": true
   },
   "outputs": [],
   "source": [
    "actor = InputLayer((None,)+state_dim)\n",
    "actor = DenseLayer(actor,128)\n",
    "actor = DenseLayer(actor,n_actions,nonlinearity=None)\n",
    "\n",
    "actor_gumbel = GumbelSoftmaxLayer(actor,tau)            #a hat\n",
    "actor_softmax = NonlinearityLayer(actor,T.nnet.softmax) #action probabilities\n"
   ]
  },
  {
   "cell_type": "code",
   "execution_count": 8,
   "metadata": {
    "collapsed": true
   },
   "outputs": [],
   "source": [
    "states = T.matrix(\"states\")\n",
    "\n",
    "policy, gumbel_action = get_output([actor_softmax,actor_gumbel],states) #pi(a|s) and a_hat\n",
    "\n",
    "get_gumbel_action = theano.function([states],gumbel_action, allow_input_downcast=True)\n",
    "get_policy = theano.function([states],policy, allow_input_downcast=True)"
   ]
  },
  {
   "cell_type": "markdown",
   "metadata": {},
   "source": [
    "__Critic__"
   ]
  },
  {
   "cell_type": "code",
   "execution_count": 9,
   "metadata": {
    "collapsed": true
   },
   "outputs": [],
   "source": [
    "critic_state = InputLayer((None,)+state_dim)\n",
    "critic_action = InputLayer((None,n_actions)) # a hat\n",
    "\n",
    "critic = ConcatLayer([critic_state,critic_action])\n",
    "critic = DenseLayer(critic,256)\n",
    "critic = DenseLayer(critic,1,nonlinearity=None) # Q(s,a)\n",
    "\n",
    "from target_network import TargetNetwork\n",
    "target_net = TargetNetwork(critic,share_inputs=True)\n",
    "old_critic = target_net.output_layers"
   ]
  },
  {
   "cell_type": "markdown",
   "metadata": {},
   "source": [
    "#### Training"
   ]
  },
  {
   "cell_type": "code",
   "execution_count": 10,
   "metadata": {
    "collapsed": true
   },
   "outputs": [],
   "source": [
    "# Train actor with deterministic policy gradient\n",
    "qvalues = get_output(critic,{critic_state:states,critic_action:gumbel_action})\n",
    "\n",
    "#Optional: add entropy to encourage exploration\n",
    "reg_entropy = -(policy * T.log(policy)).sum(axis=-1).mean()\n",
    "\n",
    "#maximize qvalues by minimizing negative qvalues\n",
    "actor_loss = -qvalues.mean() - 1e-2*reg_entropy\n",
    "\n",
    "actor_weights = get_all_params(actor,trainable=True)\n",
    "\n",
    "actor_updates = lasagne.updates.adam(actor_loss, actor_weights)\n",
    "\n",
    "#function to perform one step of policy gradient ascent over theta\n",
    "train_actor = theano.function([states],actor_loss, updates = actor_updates,\n",
    "                               allow_input_downcast=True)\n"
   ]
  },
  {
   "cell_type": "code",
   "execution_count": 11,
   "metadata": {
    "collapsed": true
   },
   "outputs": [],
   "source": [
    "# Train critic with temporal difference loss. We use the neat but unefficient version. \n",
    "actions = T.matrix(\"a_hat recorded from current tick\")\n",
    "rewards = T.vector(\"reward r(s,a)\")\n",
    "next_states = T.matrix(\"new state\")\n",
    "is_done = T.vector(\"whether game is finished by next state\")\n",
    "gamma = 0.99\n",
    "\n",
    "#get Q(s, a)\n",
    "current_qvalues = get_output(critic, {critic_state:states, critic_action:actions})\n",
    "criticise = theano.function([states,actions],current_qvalues)\n",
    "\n",
    "#get a'_max(s')\n",
    "best_next_action = get_output(actor_softmax,next_states).argmax(axis=-1)\n",
    "best_next_action_1hot = T.extra_ops.to_one_hot(best_next_action,n_actions,dtype='float32')\n",
    "\n",
    "#Q_target(s',a'_max(s'))\n",
    "next_best_qvalue = get_output(old_critic, {critic_state:next_states,\n",
    "                                           critic_action:best_next_action_1hot})\n",
    "\n",
    "#account for possible game end\n",
    "next_best_qvalue *= (1-is_done)\n",
    "\n",
    "#critic loss\n",
    "from theano.gradient import disconnected_grad as const\n",
    "reference_qvalue = const(rewards + gamma*next_best_qvalue)\n",
    "\n",
    "critic_loss = T.mean((current_qvalues - reference_qvalue)**2)\n",
    "\n",
    "critic_params = get_all_params(critic,trainable=True)\n",
    "\n",
    "critic_updates = lasagne.updates.adam(critic_loss,critic_params,learning_rate=1e-4)\n",
    "\n",
    "#perform one step of critic gradient descent over phi\n",
    "train_critic = theano.function([states,actions,rewards,next_states,is_done],critic_loss,\n",
    "                               updates = critic_updates, allow_input_downcast=True)"
   ]
  },
  {
   "cell_type": "markdown",
   "metadata": {},
   "source": [
    "### Experience replay\n",
    "\n",
    "We also need to implement an experience replay buffer to store and... replay the... experience. Technically speaking, such buffer is a storage of `<s,a,r,s'>` from which we sample those tuples when training the DQN.\n",
    "\n",
    "Implementing experience replay is easy, but doing so efficiently requires some data structure hacks. Fortunately, OpenAI have recently [[published]](https://blog.openai.com/openai-baselines-dqn/) their DQN implementation with experience replay buffer. So we stole it :)"
   ]
  },
  {
   "cell_type": "code",
   "execution_count": 12,
   "metadata": {
    "collapsed": false
   },
   "outputs": [
    {
     "name": "stderr",
     "output_type": "stream",
     "text": [
      "100%|██████████| 10000/10000 [00:01<00:00, 6414.86it/s]\n"
     ]
    }
   ],
   "source": [
    "from tqdm import tqdm,trange\n",
    "from replay_buffer import ReplayBuffer\n",
    "\n",
    "replay_buffer = ReplayBuffer(size=10**5)\n",
    "\n",
    "# pre-fill buffer\n",
    "s = env.reset()\n",
    "for _ in trange(10000):\n",
    "    action = get_gumbel_action([s])[0]            # a hat from gumbel(pi(a|s);tau)\n",
    "    new_s,r,done,_ = env.step(action.argmax()) # sample with gumbel-max\n",
    "    replay_buffer.add(s,action,r,new_s,done)     # record session history into buffer\n",
    "    s = new_s\n",
    "    if done:\n",
    "        s = env.reset()"
   ]
  },
  {
   "cell_type": "code",
   "execution_count": 13,
   "metadata": {
    "collapsed": false
   },
   "outputs": [
    {
     "name": "stderr",
     "output_type": "stream",
     "text": [
      "100%|██████████| 10000/10000 [00:08<00:00, 1211.36it/s]\n"
     ]
    }
   ],
   "source": [
    "# pre-train critic\n",
    "for _ in trange(10000):\n",
    "    states,actions,rewards,next_states,dones = replay_buffer.sample(32)\n",
    "    train_critic(states,actions,rewards,next_states,dones)"
   ]
  },
  {
   "cell_type": "markdown",
   "metadata": {},
   "source": [
    "### Playing the game"
   ]
  },
  {
   "cell_type": "code",
   "execution_count": null,
   "metadata": {
    "collapsed": true
   },
   "outputs": [],
   "source": [
    "# Some statistics\n",
    "from pandas import ewma\n",
    "from IPython.display import clear_output\n",
    "\n",
    "session_rewards = []\n",
    "\n",
    "def draw_rewards():\n",
    "    clear_output(True)\n",
    "    curve = np.array(session_rewards)\n",
    "    plt.plot(curve,label='session rewards',alpha=0.25)\n",
    "    plt.plot(ewma(curve,span=10),label='ewma rewards, span = 10 ',alpha=0.5)\n",
    "    plt.plot(ewma(curve,span=100),label='ewma rewards, span = 100')\n",
    "    plt.scatter([],[],label='tau = %.5f'%tau.get_value())\n",
    "    plt.legend(loc='best')\n",
    "    plt.xlabel(\"Sessions\")\n",
    "    plt.ylabel(\"Session reward\")\n",
    "    plt.show()"
   ]
  },
  {
   "cell_type": "code",
   "execution_count": null,
   "metadata": {
    "collapsed": false
   },
   "outputs": [
    {
     "data": {
      "image/png": "[encoded data removed]",
      "text/plain": [
       "<matplotlib.figure.Figure at 0x7ff5a441c690>"
      ]
     },
     "metadata": {},
     "output_type": "display_data"
    },
    {
     "name": "stderr",
     "output_type": "stream",
     "text": [
      "76389it [21:02, 68.35it/s]"
     ]
    },
    {
     "name": "stdout",
     "output_type": "stream",
     "text": [
      "You win!\n"
     ]
    }
   ],
   "source": [
    "from itertools import count\n",
    "s = env.reset()\n",
    "current_reward = 0 #reward for current session\n",
    "    \n",
    "for i in tqdm(count()):\n",
    "    \n",
    "    ###Play###\n",
    "    action = get_gumbel_action([s])[0] #a hat from gumbel(pi(a|s);tau)\n",
    "\n",
    "    new_s,r,done,info = env.step(action.argmax())\n",
    "    current_reward += r\n",
    "\n",
    "    #record session history into buffer\n",
    "    replay_buffer.add(s,action,r,new_s,done)\n",
    "    \n",
    "    s = new_s\n",
    "    if done: \n",
    "        s = env.reset()\n",
    "        session_rewards.append(current_reward)\n",
    "        current_reward = 0\n",
    "        if (len(session_rewards)+1)%10==0:\n",
    "            draw_rewards()\n",
    "            \n",
    "        if np.mean(session_rewards[-25:]) > 195:\n",
    "            print(\"You win!\")\n",
    "            break\n",
    "        \n",
    "        \n",
    "    ###Train###        \n",
    "    for _ in range(10): #increasae to get better sample efficiency\n",
    "        states,actions,rewards,next_states,dones = replay_buffer.sample(32)\n",
    "        train_critic(states,actions,rewards,next_states,dones)\n",
    "        train_actor(states)\n",
    "    \n",
    "    target_net.load_weights(1)  #load less frequent to increase learning stability at the cost of speed\n",
    "\n",
    "\n",
    "        "
   ]
  },
  {
   "cell_type": "markdown",
   "metadata": {},
   "source": [
    "### Video"
   ]
  },
  {
   "cell_type": "code",
   "execution_count": null,
   "metadata": {
    "collapsed": false
   },
   "outputs": [
    {
     "name": "stderr",
     "output_type": "stream",
     "text": [
      "[2017-06-16 16:07:40,583] Making new env: CartPole-v0\n",
      "[2017-06-16 16:07:40,594] Clearing 12 monitor files from previous run (because force=True was provided)\n",
      "[2017-06-16 16:07:40,602] Starting new video recorder writing to /home/justheuristic/practical_rl/week6/videos/openaigym.video.0.24091.video000000.mp4\n",
      "[2017-06-16 16:07:43,588] Starting new video recorder writing to /home/justheuristic/practical_rl/week6/videos/openaigym.video.0.24091.video000001.mp4\n"
     ]
    },
    {
     "name": "stdout",
     "output_type": "stream",
     "text": [
      "total return = 200.000000\n",
      "total return = 200.000000\n",
      "total return = 200.000000\n",
      "total return = 200.000000\n",
      "total return = 200.000000\n",
      "total return = 200.000000\n"
     ]
    },
    {
     "name": "stderr",
     "output_type": "stream",
     "text": [
      "[2017-06-16 16:07:46,673] Starting new video recorder writing to /home/justheuristic/practical_rl/week6/videos/openaigym.video.0.24091.video000008.mp4\n"
     ]
    },
    {
     "name": "stdout",
     "output_type": "stream",
     "text": [
      "total return = 200.000000\n",
      "total return = 200.000000\n",
      "total return = 200.000000\n",
      "total return = 200.000000\n",
      "total return = 200.000000\n",
      "total return = 200.000000\n",
      "total return = 200.000000\n",
      "total return = 200.000000\n",
      "total return = 200.000000\n",
      "total return = 200.000000\n",
      "total return = 200.000000\n",
      "total return = 200.000000\n",
      "total return = 200.000000\n",
      "total return = 200.000000\n"
     ]
    },
    {
     "name": "stderr",
     "output_type": "stream",
     "text": [
      "[2017-06-16 16:07:50,239] Starting new video recorder writing to /home/justheuristic/practical_rl/week6/videos/openaigym.video.0.24091.video000027.mp4\n"
     ]
    },
    {
     "name": "stdout",
     "output_type": "stream",
     "text": [
      "total return = 200.000000\n",
      "total return = 200.000000\n",
      "total return = 200.000000\n",
      "total return = 200.000000\n",
      "total return = 200.000000\n",
      "total return = 200.000000\n",
      "total return = 200.000000\n",
      "total return = 200.000000\n",
      "total return = 200.000000\n",
      "total return = 200.000000\n",
      "total return = 200.000000\n",
      "total return = 200.000000\n",
      "total return = 200.000000\n",
      "total return = 200.000000\n",
      "total return = 200.000000\n",
      "total return = 200.000000\n",
      "total return = 200.000000\n",
      "total return = 200.000000\n",
      "total return = 200.000000\n",
      "total return = 200.000000\n",
      "total return = 200.000000\n",
      "total return = 200.000000\n",
      "total return = 200.000000\n",
      "total return = 200.000000\n",
      "total return = 200.000000\n",
      "total return = 200.000000\n",
      "total return = 200.000000\n",
      "total return = 200.000000\n",
      "total return = 200.000000\n",
      "total return = 200.000000\n",
      "total return = 200.000000\n",
      "total return = 200.000000\n",
      "total return = 200.000000\n",
      "total return = 200.000000\n",
      "total return = 200.000000\n",
      "total return = 200.000000\n",
      "total return = 200.000000\n",
      "total return = 200.000000\n"
     ]
    },
    {
     "name": "stderr",
     "output_type": "stream",
     "text": [
      "[2017-06-16 16:07:54,433] Starting new video recorder writing to /home/justheuristic/practical_rl/week6/videos/openaigym.video.0.24091.video000064.mp4\n"
     ]
    },
    {
     "name": "stdout",
     "output_type": "stream",
     "text": [
      "total return = 200.000000\n",
      "total return = 200.000000\n",
      "total return = 200.000000\n",
      "total return = 200.000000\n",
      "total return = 200.000000\n",
      "total return = 200.000000\n",
      "total return = 200.000000\n",
      "total return = 200.000000\n",
      "total return = 200.000000\n",
      "total return = 200.000000\n",
      "total return = 200.000000\n",
      "total return = 200.000000\n",
      "total return = 200.000000\n",
      "total return = 200.000000\n",
      "total return = 200.000000\n",
      "total return = 200.000000\n",
      "total return = 200.000000\n",
      "total return = 200.000000\n",
      "total return = 200.000000\n",
      "total return = 200.000000\n",
      "total return = 200.000000\n",
      "total return = 200.000000\n",
      "total return = 200.000000\n",
      "total return = 200.000000\n",
      "total return = 200.000000\n",
      "total return = 200.000000\n",
      "total return = 200.000000\n",
      "total return = 200.000000\n",
      "total return = 200.000000\n",
      "total return = 200.000000\n",
      "total return = 200.000000\n",
      "total return = 200.000000\n",
      "total return = 200.000000\n",
      "total return = 200.000000\n",
      "total return = 200.000000\n",
      "total return = 200.000000\n"
     ]
    },
    {
     "name": "stderr",
     "output_type": "stream",
     "text": [
      "[2017-06-16 16:07:58,444] Finished writing results. You can upload them to the scoreboard via gym.upload('/home/justheuristic/practical_rl/week6/videos')\n"
     ]
    },
    {
     "name": "stdout",
     "output_type": "stream",
     "text": [
      "total return = 200.000000\n",
      "total return = 200.000000\n",
      "total return = 200.000000\n",
      "total return = 200.000000\n",
      "total return = 200.000000\n",
      "total return = 200.000000\n"
     ]
    }
   ],
   "source": [
    "#record sessions\n",
    "import gym.wrappers\n",
    "env = gym.wrappers.Monitor(make_env(),directory=\"videos\",force=True)\n",
    "\n",
    "#play N games\n",
    "for _ in range(100):\n",
    "    returns = 0.\n",
    "    s = env.reset()\n",
    "    done = False\n",
    "    while not done:\n",
    "        s,r,done,_ = env.step(get_policy([s])[0].argmax()) #take greedy action\n",
    "        returns += r\n",
    "        \n",
    "    print(\"total return = %f\"%returns)\n",
    "\n",
    "\n",
    "env.close()\n"
   ]
  },
  {
   "cell_type": "code",
   "execution_count": null,
   "metadata": {
    "collapsed": false
   },
   "outputs": [
    {
     "data": {
      "text/html": [
       "\n",
       "<video width=\"640\" height=\"480\" controls>\n",
       "  <source src=\"./videos/openaigym.video.0.24091.video000001.mp4\" type=\"video/mp4\">\n",
       "</video>\n"
      ],
      "text/plain": [
       "<IPython.core.display.HTML object>"
      ]
     },
     "execution_count": 17,
     "metadata": {},
     "output_type": "execute_result"
    },
    {
     "name": "stderr",
     "output_type": "stream",
     "text": [
      "\r",
      "          \r",
      "76389it [21:21, 59.61it/s]"
     ]
    }
   ],
   "source": [
    "#show video\n",
    "from IPython.display import HTML\n",
    "import os\n",
    "\n",
    "video_names = list(filter(lambda s:s.endswith(\".mp4\"),os.listdir(\"./videos/\")))\n",
    "\n",
    "HTML(\"\"\"\n",
    "<video width=\"640\" height=\"480\" controls>\n",
    "  <source src=\"{}\" type=\"video/mp4\">\n",
    "</video>\n",
    "\"\"\".format(\"./videos/\"+video_names[-1])) #this may or may not be _last_ video. Try other indices"
   ]
  },
  {
   "cell_type": "markdown",
   "metadata": {},
   "source": [
    "### Instead of conclusions <a id=\"outro\"></a>\n",
    "\n",
    "Well, the algorithm evidently works. It ain't need no baseline. It trains off-policy which means that we can get osom sample efficiency. There's probably a lot of hacks like training several iterations of actor per every critic step and so on. Unlike gumbel-VAE and gumbel-GAN, we found that the algorithm is insensitive to $tau$ regime. It works well if $\\tau$ is kept at a constant rate, provided it's reasonably small (0.1, 0.01).\n",
    "\n",
    "The algorithm generalizes straightforwardly to any network architecture, so we gonna try it on some conv+lstm+attention for atari task. It also generalizes well on a mixture of continuous & discrete actions, which makes it tempting to try it on [[Universe]](http://universe.openai.com/) envs where there's a mixture of large discrete keyboard and continuous mouse space.\n",
    "\n",
    "__Practically,__ the algorithm features good data efficiency due to experience replay and poor CPU efficiency, which makes it more applicable for tasks when sampling is costly. This includes both complex simulations (Universe, Starcraft, ...) and real world applications (physical robots, stock trading).\n",
    "\n",
    "__Theoretically,__ the greatest strength of the algorithm is that it has less gradient variance than stochastic policy gradients (REINFORCE, A2c, TRPO). This is expected to play larger role when action space is large or ugly, like in Universe environments or for Seq2Seq tasks.\n",
    "\n",
    "__Hopefully,__ i'll get to apply it to machine translation before my boss kills me :)\n",
    "\n",
    "```\n",
    "\n",
    "```\n",
    "```\n",
    "\n",
    "```\n",
    "```\n",
    "\n",
    "```\n",
    "```\n",
    "\n",
    "```\n",
    "```\n",
    "\n",
    "```\n",
    "```\n",
    "\n",
    "```\n",
    "```\n",
    "\n",
    "```\n",
    "\n",
    "\n",
    "Thanks for reading this far. Here's a smiling hedgehog for your trouble:\n",
    "\n",
    "<img src=\"https://www.demilked.com/magazine/wp-content/uploads/2014/04/marutaro-cute-hedgehog-funny-paper-faces-21.jpg\" width=480>"
   ]
  },
  {
   "cell_type": "markdown",
   "metadata": {
    "collapsed": true
   },
   "source": [
    "### Appendix: critic training <a id=\"appendix\"></a>\n",
    "\n",
    "There are two general ways to train critic. One is a-la Q-learning (what we used) and the other is a-la Expected Value SARSA.\n",
    "\n",
    "In EV-SARSA, you minimize\n",
    "$$ \\underset{<s,a,r,s'>}{E}(Q_\\phi(s,a) - [r+\\gamma \\cdot \\underset{gumbel}{E} \\space Q_\\phi(s', gumbel(\\pi_\\theta(a'|s'); \\tau))])^2 $$\n",
    "\n",
    "This algorithm can be better if you want to account for agent's constant exploration (e.g. for non-stationary environment) or if optimal policy is stochastic (e.g. rock-paper-scissors). \n",
    "\n",
    "The ball and chain is that you have to compute expected critic value over actor policy. Since both actor and critic are neural networks, this expectation is at best estimated with samples (this reads \"long and inaccurate\"). Q-learning, however, only ever requires a single evaluation of actor and critic.\n",
    "\n",
    "__Possible hack:__ When training critic with expected-value SARSA, you have to compute $\\underset{gumbel}{E} \\space Q_\\phi(s', gumbel(\\pi_\\theta(a|s'); \\tau))$. This expectation can be honestly approximated by sampling gumbel one or more times, but you can do better by sacrificing your mathematical virginity.\n",
    "\n",
    "Namely, replace this expectation with \n",
    "\n",
    "$$\\underset{gumbel}{E} \\space Q_\\phi(s', gumbel(\\pi_\\theta(a|s'); \\tau)) \\approx Q_\\phi(s', \\underset{gumbel}{E} gumbel(\\pi_\\theta(a|s'); \\tau)) \\approx Q_\\phi(s', \\pi_\\theta(a|s'))$$\n",
    "\n",
    "This way algorithm becomes _kind of_ q-learning because it uses _kind of_ optimal action for V(s'). It will only work if you expect optimal policy to be deterministic.\n",
    "\n",
    "In my defense, the algorithm still works with honest expectation, but you need more iterations to train critic that way. Also, since $Q_\\phi(s,a)$ is a continuous function and $\\pi_\\theta(a|s)$ converges to a deterministic policy (always picks best action), this hack also converges to true expectation.\n",
    "\n",
    "That's it. I feel slightly redeemed.\n"
   ]
  },
  {
   "cell_type": "code",
   "execution_count": null,
   "metadata": {
    "collapsed": true
   },
   "outputs": [],
   "source": []
  }
 ],
 "metadata": {
  "kernelspec": {
   "display_name": "Python 2",
   "language": "python",
   "name": "python2"
  },
  "language_info": {
   "codemirror_mode": {
    "name": "ipython",
    "version": 2
   },
   "file_extension": ".py",
   "mimetype": "text/x-python",
   "name": "python",
   "nbconvert_exporter": "python",
   "pygments_lexer": "ipython2",
   "version": "2.7.13"
  }
 },
 "nbformat": 4,
 "nbformat_minor": 1
}
